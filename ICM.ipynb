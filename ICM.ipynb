{
  "nbformat": 4,
  "nbformat_minor": 0,
  "metadata": {
    "colab": {
      "provenance": [],
      "authorship_tag": "ABX9TyM4yvUGxUdDI8ikwXN9fe2o",
      "include_colab_link": true
    },
    "kernelspec": {
      "name": "python3",
      "display_name": "Python 3"
    },
    "language_info": {
      "name": "python"
    }
  },
  "cells": [
    {
      "cell_type": "markdown",
      "metadata": {
        "id": "view-in-github",
        "colab_type": "text"
      },
      "source": [
        "<a href=\"https://colab.research.google.com/github/choundurvishnu/Underwater_Image_Enhancement/blob/main/ICM.ipynb\" target=\"_parent\"><img src=\"https://colab.research.google.com/assets/colab-badge.svg\" alt=\"Open In Colab\"/></a>"
      ]
    },
    {
      "cell_type": "code",
      "execution_count": 1,
      "metadata": {
        "id": "FFrUE4BqEnWz"
      },
      "outputs": [],
      "source": [
        "!pip install -U -q PyDrive\n",
        "from pydrive.auth import GoogleAuth\n",
        "from pydrive.drive import GoogleDrive\n",
        "from google.colab import auth\n",
        "from oauth2client.client import GoogleCredentials"
      ]
    },
    {
      "cell_type": "code",
      "source": [
        "auth.authenticate_user()\n",
        "gauth = GoogleAuth()\n",
        "gauth.credentials = GoogleCredentials.get_application_default()\n",
        "drive = GoogleDrive(gauth)"
      ],
      "metadata": {
        "id": "vRTt9dk4En4x"
      },
      "execution_count": 2,
      "outputs": []
    },
    {
      "cell_type": "code",
      "source": [
        "from google.colab import drive\n",
        "drive.mount('/content/drive')"
      ],
      "metadata": {
        "colab": {
          "base_uri": "https://localhost:8080/"
        },
        "id": "BfUE42aCEn9D",
        "outputId": "f9118539-9f9d-47ea-d3e5-4d22eae16d9b"
      },
      "execution_count": 3,
      "outputs": [
        {
          "output_type": "stream",
          "name": "stdout",
          "text": [
            "Mounted at /content/drive\n"
          ]
        }
      ]
    },
    {
      "cell_type": "code",
      "source": [],
      "metadata": {
        "id": "B83XO4SWEoBN"
      },
      "execution_count": null,
      "outputs": []
    },
    {
      "cell_type": "code",
      "source": [
        "!pip install xlwt"
      ],
      "metadata": {
        "colab": {
          "base_uri": "https://localhost:8080/"
        },
        "id": "K6s6nAk1FYSn",
        "outputId": "15e1fd48-e250-4744-e98d-02356dac2e65"
      },
      "execution_count": 5,
      "outputs": [
        {
          "output_type": "stream",
          "name": "stdout",
          "text": [
            "Collecting xlwt\n",
            "  Downloading xlwt-1.3.0-py2.py3-none-any.whl (99 kB)\n",
            "\u001b[?25l     \u001b[90m━━━━━━━━━━━━━━━━━━━━━━━━━━━━━━━━━━━━━━━━\u001b[0m \u001b[32m0.0/100.0 kB\u001b[0m \u001b[31m?\u001b[0m eta \u001b[36m-:--:--\u001b[0m\r\u001b[2K     \u001b[91m━━━━━━━━━━━━━━━━━━━━━━━━━━━━━━━━━━━━\u001b[0m\u001b[91m╸\u001b[0m\u001b[90m━━━\u001b[0m \u001b[32m92.2/100.0 kB\u001b[0m \u001b[31m2.8 MB/s\u001b[0m eta \u001b[36m0:00:01\u001b[0m\r\u001b[2K     \u001b[90m━━━━━━━━━━━━━━━━━━━━━━━━━━━━━━━━━━━━━━━━\u001b[0m \u001b[32m100.0/100.0 kB\u001b[0m \u001b[31m2.4 MB/s\u001b[0m eta \u001b[36m0:00:00\u001b[0m\n",
            "\u001b[?25hInstalling collected packages: xlwt\n",
            "Successfully installed xlwt-1.3.0\n"
          ]
        }
      ]
    },
    {
      "cell_type": "code",
      "source": [
        "import cv2\n",
        "from skimage.color import rgb2hsv,hsv2rgb\n",
        "import numpy as np\n",
        "import os\n",
        "import natsort\n",
        "import xlwt"
      ],
      "metadata": {
        "id": "UMrXG7MKFGbf"
      },
      "execution_count": 6,
      "outputs": []
    },
    {
      "cell_type": "code",
      "source": [
        "\n",
        "def global_stretching(img_L,height, width):\n",
        "    I_min = np.min(img_L)\n",
        "    I_max = np.max(img_L)\n",
        "    I_mean = np.mean(img_L)\n",
        "\n",
        "\n",
        "    # print('I_min',I_min)\n",
        "    # print('I_max',I_max)\n",
        "    # print('I_max',I_mean)\n",
        "\n",
        "    array_Global_histogram_stretching_L = np.zeros((height, width))\n",
        "    for i in range(0, height):\n",
        "        for j in range(0, width):\n",
        "            p_out = (img_L[i][j] - I_min) * ((1) / (I_max - I_min))\n",
        "            array_Global_histogram_stretching_L[i][j] = p_out\n",
        "\n",
        "    return array_Global_histogram_stretching_L"
      ],
      "metadata": {
        "id": "7B7Y_0DnEoEa"
      },
      "execution_count": 7,
      "outputs": []
    },
    {
      "cell_type": "code",
      "source": [],
      "metadata": {
        "id": "DeUNHNwcFFyG"
      },
      "execution_count": null,
      "outputs": []
    },
    {
      "cell_type": "code",
      "source": [
        "def sceneRadianceRGB(sceneRadiance):\n",
        "\n",
        "    sceneRadiance = np.clip(sceneRadiance, 0, 255)\n",
        "    sceneRadiance = np.uint8(sceneRadiance)\n",
        "\n",
        "    return sceneRadiance"
      ],
      "metadata": {
        "id": "nnzeWYjUEoHj"
      },
      "execution_count": 8,
      "outputs": []
    },
    {
      "cell_type": "code",
      "source": [
        "def stretching(img):\n",
        "    height = len(img)\n",
        "    width = len(img[0])\n",
        "    for k in range(0, 3):\n",
        "        Max_channel  = np.max(img[:,:,k])\n",
        "        Min_channel  = np.min(img[:,:,k])\n",
        "        # print('Max_channel',Max_channel)\n",
        "        # print('Min_channel',Min_channel)\n",
        "        for i in range(height):\n",
        "            for j in range(width):\n",
        "                img[i,j,k] = (img[i,j,k] - Min_channel) * (255 - 0) / (Max_channel - Min_channel)+ 0\n",
        "    return img"
      ],
      "metadata": {
        "id": "z-jduHrFEuiO"
      },
      "execution_count": 9,
      "outputs": []
    },
    {
      "cell_type": "code",
      "source": [
        "def  HSVStretching(sceneRadiance):\n",
        "    height = len(sceneRadiance)\n",
        "    width = len(sceneRadiance[0])\n",
        "    img_hsv = rgb2hsv(sceneRadiance)\n",
        "    h, s, v = cv2.split(img_hsv)\n",
        "    img_s_stretching = global_stretching(s, height, width)\n",
        "    # print('np.min(img_s_stretching)',np.min(img_s_stretching))\n",
        "    # print('np.max(img_s_stretching)',np.max(img_s_stretching))\n",
        "    # print('np.mean(img_s_stretching)',np.mean(img_s_stretching))\n",
        "\n",
        "\n",
        "\n",
        "    img_v_stretching = global_stretching(v, height, width)\n",
        "\n",
        "    # print('np.min(img_v_stretching)', np.min(img_v_stretching))\n",
        "    # print('np.max(img_v_stretching)', np.max(img_v_stretching))\n",
        "    # print('np.mean(img_v_stretching)', np.mean(img_v_stretching))\n",
        "\n",
        "    # img_L_sHretching = global_Stretching.global_stretching(L, height, width)\n",
        "    # img_a_stretching = global_stretching_ab.global_Stretching_ab(a, height, width)\n",
        "    # img_b_stretching = global_stretching_ab.global_Stretching_ab(b, height, width)\n",
        "\n",
        "    labArray = np.zeros((height, width, 3), 'float64')\n",
        "    labArray[:, :, 0] = h\n",
        "    labArray[:, :, 1] = img_s_stretching\n",
        "    labArray[:, :, 2] = img_v_stretching\n",
        "    img_rgb = hsv2rgb(labArray) * 255\n",
        "\n",
        "    # img_rgb = np.clip(img_rgb, 0, 255)\n",
        "\n",
        "    return img_rgb"
      ],
      "metadata": {
        "id": "sr7uhpZjEuoB"
      },
      "execution_count": 10,
      "outputs": []
    },
    {
      "cell_type": "code",
      "source": [
        "np.seterr(over='ignore')\n",
        "if __name__ == '__main__':\n",
        "    pass\n",
        "\n",
        "folder = \"/content/drive/MyDrive/4_1_Reports_IOMP_projects/PROJECT\"\n",
        "\n",
        "path = folder + \"/InputImages\"\n",
        "files = os.listdir(path)\n",
        "files =  natsort.natsorted(files)\n",
        "\n",
        "for i in range(len(files)):\n",
        "    file = files[i]\n",
        "    filepath = path + \"/\" + file\n",
        "    prefix = file.split('.')[0]\n",
        "    if os.path.isfile(filepath):\n",
        "        print('********    file   ********',file)\n",
        "        img = cv2.imread(folder + '/InputImages/' + file)\n",
        "        img = stretching(img)\n",
        "        sceneRadiance = sceneRadianceRGB(img)\n",
        "        # cv2.imwrite(folder + '/OutputImages/' + Number + 'Stretched.jpg', sceneRadiance)\n",
        "        sceneRadiance = HSVStretching(sceneRadiance)\n",
        "        sceneRadiance = sceneRadianceRGB(sceneRadiance)\n",
        "        cv2.imwrite('OutputImages/' + prefix + '_ICM.jpg', sceneRadiance)"
      ],
      "metadata": {
        "colab": {
          "base_uri": "https://localhost:8080/"
        },
        "id": "nLqhlR0nEoKp",
        "outputId": "3585c0ef-4dd8-417c-fa7a-44234ac9dc31"
      },
      "execution_count": 12,
      "outputs": [
        {
          "output_type": "stream",
          "name": "stdout",
          "text": [
            "********    file   ******** 1.jpg\n",
            "********    file   ******** 2.jpg\n",
            "********    file   ******** 3.jpg\n",
            "********    file   ******** 4.jpg\n",
            "********    file   ******** 5.jpg\n",
            "********    file   ******** 6.jpg\n",
            "********    file   ******** 7.jpg\n",
            "********    file   ******** 8.jpg\n",
            "********    file   ******** 9.jpg\n",
            "********    file   ******** 10.jpg\n",
            "********    file   ******** 11.jpg\n",
            "********    file   ******** 12.jpg\n",
            "********    file   ******** 13.jpg\n",
            "********    file   ******** 14.jpg\n",
            "********    file   ******** 15.jpg\n",
            "********    file   ******** 16.jpg\n",
            "********    file   ******** 17.jpg\n",
            "********    file   ******** 18.jpg\n",
            "********    file   ******** 19.jpg\n",
            "********    file   ******** 20.jpg\n",
            "********    file   ******** 21.jpg\n",
            "********    file   ******** 22.jpg\n",
            "********    file   ******** 23.jpg\n",
            "********    file   ******** 24.jpg\n",
            "********    file   ******** 25.jpg\n",
            "********    file   ******** 26.png\n",
            "********    file   ******** 27.jpg\n",
            "********    file   ******** 28.png\n",
            "********    file   ******** 29.jpg\n",
            "********    file   ******** 30.jpg\n",
            "********    file   ******** 31.jpg\n",
            "********    file   ******** 32.jpg\n",
            "********    file   ******** 33.jpg\n",
            "********    file   ******** 34.jpg\n",
            "********    file   ******** 35.png\n",
            "********    file   ******** 36.png\n",
            "********    file   ******** 37.png\n",
            "********    file   ******** 38.jpg\n",
            "********    file   ******** 39.jpg\n",
            "********    file   ******** 40.jpg\n",
            "********    file   ******** 41.png\n",
            "********    file   ******** 42.jpg\n",
            "********    file   ******** 43.jpg\n",
            "********    file   ******** 44.jpg\n",
            "********    file   ******** 45.jpg\n",
            "********    file   ******** 46.jpg\n",
            "********    file   ******** 47.jpg\n",
            "********    file   ******** 48.jpg\n",
            "********    file   ******** 49.jpg\n",
            "********    file   ******** 50.jpg\n",
            "********    file   ******** 51.jpg\n"
          ]
        }
      ]
    }
  ]
}