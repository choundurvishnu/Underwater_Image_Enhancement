{
  "nbformat": 4,
  "nbformat_minor": 0,
  "metadata": {
    "colab": {
      "provenance": [],
      "authorship_tag": "ABX9TyNS9V3iSbcBd2EvTRd0f8aM",
      "include_colab_link": true
    },
    "kernelspec": {
      "name": "python3",
      "display_name": "Python 3"
    },
    "language_info": {
      "name": "python"
    }
  },
  "cells": [
    {
      "cell_type": "markdown",
      "metadata": {
        "id": "view-in-github",
        "colab_type": "text"
      },
      "source": [
        "<a href=\"https://colab.research.google.com/github/choundurvishnu/Underwater_Image_Enhancement/blob/main/CLAHE.ipynb\" target=\"_parent\"><img src=\"https://colab.research.google.com/assets/colab-badge.svg\" alt=\"Open In Colab\"/></a>"
      ]
    },
    {
      "cell_type": "code",
      "execution_count": 1,
      "metadata": {
        "id": "_-NDyKhGaRXv"
      },
      "outputs": [],
      "source": [
        "!pip install -U -q PyDrive\n",
        "from pydrive.auth import GoogleAuth\n",
        "from pydrive.drive import GoogleDrive\n",
        "from google.colab import auth\n",
        "from oauth2client.client import GoogleCredentials"
      ]
    },
    {
      "cell_type": "code",
      "source": [
        "auth.authenticate_user()\n",
        "gauth = GoogleAuth()\n",
        "gauth.credentials = GoogleCredentials.get_application_default()\n",
        "drive = GoogleDrive(gauth)"
      ],
      "metadata": {
        "id": "CLWXYg8ea5rw"
      },
      "execution_count": 2,
      "outputs": []
    },
    {
      "cell_type": "code",
      "source": [
        "from google.colab import drive\n",
        "drive.mount('/content/drive')"
      ],
      "metadata": {
        "colab": {
          "base_uri": "https://localhost:8080/"
        },
        "id": "w2kjbFGba6DV",
        "outputId": "4deb2fa9-112e-48bd-bc2d-423836973943"
      },
      "execution_count": 3,
      "outputs": [
        {
          "output_type": "stream",
          "name": "stdout",
          "text": [
            "Mounted at /content/drive\n"
          ]
        }
      ]
    },
    {
      "cell_type": "code",
      "source": [
        "!pip install xlwt"
      ],
      "metadata": {
        "colab": {
          "base_uri": "https://localhost:8080/"
        },
        "id": "kwY9zMGs_HIZ",
        "outputId": "2f955120-aeb1-466d-9954-1634aa254bb7"
      },
      "execution_count": 5,
      "outputs": [
        {
          "output_type": "stream",
          "name": "stdout",
          "text": [
            "Collecting xlwt\n",
            "  Downloading xlwt-1.3.0-py2.py3-none-any.whl (99 kB)\n",
            "\u001b[?25l     \u001b[90m━━━━━━━━━━━━━━━━━━━━━━━━━━━━━━━━━━━━━━━━\u001b[0m \u001b[32m0.0/100.0 kB\u001b[0m \u001b[31m?\u001b[0m eta \u001b[36m-:--:--\u001b[0m\r\u001b[2K     \u001b[91m━━━━━━━━━━━━━━━━━━━━━━━━━━━━━━━━━━━━\u001b[0m\u001b[91m╸\u001b[0m\u001b[90m━━━\u001b[0m \u001b[32m92.2/100.0 kB\u001b[0m \u001b[31m3.0 MB/s\u001b[0m eta \u001b[36m0:00:01\u001b[0m\r\u001b[2K     \u001b[90m━━━━━━━━━━━━━━━━━━━━━━━━━━━━━━━━━━━━━━━━\u001b[0m \u001b[32m100.0/100.0 kB\u001b[0m \u001b[31m2.5 MB/s\u001b[0m eta \u001b[36m0:00:00\u001b[0m\n",
            "\u001b[?25hInstalling collected packages: xlwt\n",
            "Successfully installed xlwt-1.3.0\n"
          ]
        }
      ]
    },
    {
      "cell_type": "markdown",
      "source": [
        "\n",
        "\n",
        "*   Packages installed and used in this project.\n",
        "*   Packages installation : !pip install xlwt"
      ],
      "metadata": {
        "id": "GTCcNrdmy-tE"
      }
    },
    {
      "cell_type": "code",
      "source": [
        "import os\n",
        "import numpy as np\n",
        "import cv2\n",
        "import natsort\n",
        "import xlwt\n",
        "from skimage import exposure"
      ],
      "metadata": {
        "id": "RqG5qRH-azvv"
      },
      "execution_count": 6,
      "outputs": []
    },
    {
      "cell_type": "markdown",
      "source": [
        "\n",
        "\n",
        "*   Created a function that will define the CLAHE Method\n",
        "*   CLAHE - Contrast-limited adaptive histogram equalization\n",
        "*   For more information : https://en.wikipedia.org/wiki/Adaptive_histogram_equalization\n"
      ],
      "metadata": {
        "id": "aBIh9Nmry4ID"
      }
    },
    {
      "cell_type": "code",
      "source": [
        "def RecoverCLAHE(image):\n",
        "    clahe = cv2.createCLAHE(clipLimit=2, tileGridSize=(4, 4))\n",
        "    for i in range(3):\n",
        "        image[:, :, i] = clahe.apply((image[:, :, i]))\n",
        "    return image"
      ],
      "metadata": {
        "id": "ha8hZ6kFaR58"
      },
      "execution_count": 7,
      "outputs": []
    },
    {
      "cell_type": "code",
      "source": [
        "np.seterr(over='ignore')\n",
        "if __name__ == '__main__':\n",
        "    pass\n",
        "\n",
        "folder = \"/content/drive/MyDrive/4_1_Reports_IOMP_projects/PROJECT\"\n",
        "\n",
        "path = folder + \"/InputImages\"\n",
        "files = os.listdir(path)\n",
        "files =  natsort.natsorted(files)\n",
        "\n",
        "for i in range(len(files)):\n",
        "    file = files[i]\n",
        "    filepath = path + \"/\" + file\n",
        "    prefix = file.split('.')[0]\n",
        "    print('********    file   ********')\n",
        "    if os.path.isfile(filepath):\n",
        "      print(\"          \",file)\n",
        "      img = cv2.imread(folder + '/InputImages/' + file)\n",
        "      CLAHE_image = RecoverCLAHE(img)\n",
        "      cv2.imwrite('OutputImages/' + prefix + '_CLAHE.jpg', CLAHE_image)"
      ],
      "metadata": {
        "colab": {
          "base_uri": "https://localhost:8080/"
        },
        "id": "sY0Dxr91aSJh",
        "outputId": "85de0910-a4be-4570-9b00-482f817c4b6a"
      },
      "execution_count": 8,
      "outputs": [
        {
          "output_type": "stream",
          "name": "stdout",
          "text": [
            "********    file   ********\n",
            "           1.jpg\n",
            "********    file   ********\n",
            "           2.jpg\n",
            "********    file   ********\n",
            "           3.jpg\n",
            "********    file   ********\n",
            "           4.jpg\n",
            "********    file   ********\n",
            "           5.jpg\n",
            "********    file   ********\n",
            "           6.jpg\n",
            "********    file   ********\n",
            "           7.jpg\n",
            "********    file   ********\n",
            "           8.jpg\n",
            "********    file   ********\n",
            "           9.jpg\n",
            "********    file   ********\n",
            "           10.jpg\n",
            "********    file   ********\n",
            "           11.jpg\n",
            "********    file   ********\n",
            "           12.jpg\n",
            "********    file   ********\n",
            "           13.jpg\n",
            "********    file   ********\n",
            "           14.jpg\n",
            "********    file   ********\n",
            "           15.jpg\n",
            "********    file   ********\n",
            "           16.jpg\n",
            "********    file   ********\n",
            "           17.jpg\n",
            "********    file   ********\n",
            "           18.jpg\n",
            "********    file   ********\n",
            "           19.jpg\n",
            "********    file   ********\n",
            "           20.jpg\n",
            "********    file   ********\n",
            "           21.jpg\n",
            "********    file   ********\n",
            "           22.jpg\n",
            "********    file   ********\n",
            "           23.jpg\n",
            "********    file   ********\n",
            "           24.jpg\n",
            "********    file   ********\n",
            "           25.jpg\n",
            "********    file   ********\n",
            "           26.png\n",
            "********    file   ********\n",
            "           27.jpg\n",
            "********    file   ********\n",
            "           28.png\n",
            "********    file   ********\n",
            "           29.jpg\n",
            "********    file   ********\n",
            "           30.jpg\n",
            "********    file   ********\n",
            "           31.jpg\n",
            "********    file   ********\n",
            "           32.jpg\n",
            "********    file   ********\n",
            "           33.jpg\n",
            "********    file   ********\n",
            "           34.jpg\n",
            "********    file   ********\n",
            "           35.png\n",
            "********    file   ********\n",
            "           36.png\n",
            "********    file   ********\n",
            "           37.png\n",
            "********    file   ********\n",
            "           38.jpg\n",
            "********    file   ********\n",
            "           39.jpg\n",
            "********    file   ********\n",
            "           40.jpg\n",
            "********    file   ********\n",
            "           41.png\n",
            "********    file   ********\n",
            "           42.jpg\n",
            "********    file   ********\n",
            "           43.jpg\n",
            "********    file   ********\n",
            "           44.jpg\n",
            "********    file   ********\n",
            "           45.jpg\n",
            "********    file   ********\n",
            "           46.jpg\n",
            "********    file   ********\n",
            "           47.jpg\n",
            "********    file   ********\n",
            "           48.jpg\n",
            "********    file   ********\n",
            "           49.jpg\n",
            "********    file   ********\n",
            "           50.jpg\n",
            "********    file   ********\n",
            "           51.jpg\n"
          ]
        }
      ]
    },
    {
      "cell_type": "code",
      "source": [],
      "metadata": {
        "id": "H-DeVNsu_Eql"
      },
      "execution_count": null,
      "outputs": []
    }
  ]
}