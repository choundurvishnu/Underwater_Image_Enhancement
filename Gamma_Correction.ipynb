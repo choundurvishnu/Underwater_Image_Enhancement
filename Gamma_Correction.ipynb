{
  "nbformat": 4,
  "nbformat_minor": 0,
  "metadata": {
    "colab": {
      "provenance": [],
      "authorship_tag": "ABX9TyMiXmd/UCOlgEvvocwCj1Zf",
      "include_colab_link": true
    },
    "kernelspec": {
      "name": "python3",
      "display_name": "Python 3"
    },
    "language_info": {
      "name": "python"
    }
  },
  "cells": [
    {
      "cell_type": "markdown",
      "metadata": {
        "id": "view-in-github",
        "colab_type": "text"
      },
      "source": [
        "<a href=\"https://colab.research.google.com/github/choundurvishnu/Underwater_Image_Enhancement/blob/main/Gamma_Correction.ipynb\" target=\"_parent\"><img src=\"https://colab.research.google.com/assets/colab-badge.svg\" alt=\"Open In Colab\"/></a>"
      ]
    },
    {
      "cell_type": "code",
      "execution_count": 1,
      "metadata": {
        "id": "_F9em4P0cQV0"
      },
      "outputs": [],
      "source": [
        "!pip install -U -q PyDrive\n",
        "from pydrive.auth import GoogleAuth\n",
        "from pydrive.drive import GoogleDrive\n",
        "from google.colab import auth\n",
        "from oauth2client.client import GoogleCredentials"
      ]
    },
    {
      "cell_type": "code",
      "source": [
        "auth.authenticate_user()\n",
        "gauth = GoogleAuth()\n",
        "gauth.credentials = GoogleCredentials.get_application_default()\n",
        "drive = GoogleDrive(gauth)"
      ],
      "metadata": {
        "id": "EXV9x2cIcWE6"
      },
      "execution_count": 2,
      "outputs": []
    },
    {
      "cell_type": "code",
      "source": [
        "from google.colab import drive\n",
        "drive.mount('/content/drive')"
      ],
      "metadata": {
        "colab": {
          "base_uri": "https://localhost:8080/"
        },
        "id": "f-MnFUcLcWUP",
        "outputId": "73398e91-7baf-4ec1-f9e4-e1a46cae9f0f"
      },
      "execution_count": 3,
      "outputs": [
        {
          "output_type": "stream",
          "name": "stdout",
          "text": [
            "Mounted at /content/drive\n"
          ]
        }
      ]
    },
    {
      "cell_type": "code",
      "source": [
        "!pip install xlwt"
      ],
      "metadata": {
        "colab": {
          "base_uri": "https://localhost:8080/"
        },
        "id": "yLns5CB1cWZa",
        "outputId": "de225eed-57a0-463d-d597-f5eed427a8f2"
      },
      "execution_count": 4,
      "outputs": [
        {
          "output_type": "stream",
          "name": "stdout",
          "text": [
            "Collecting xlwt\n",
            "  Downloading xlwt-1.3.0-py2.py3-none-any.whl (99 kB)\n",
            "\u001b[?25l     \u001b[90m━━━━━━━━━━━━━━━━━━━━━━━━━━━━━━━━━━━━━━━━\u001b[0m \u001b[32m0.0/100.0 kB\u001b[0m \u001b[31m?\u001b[0m eta \u001b[36m-:--:--\u001b[0m\r\u001b[2K     \u001b[91m━━━━━━━━━━━━━━━━━━━━━━━━━━━━━━━━━━━━\u001b[0m\u001b[91m╸\u001b[0m\u001b[90m━━━\u001b[0m \u001b[32m92.2/100.0 kB\u001b[0m \u001b[31m2.6 MB/s\u001b[0m eta \u001b[36m0:00:01\u001b[0m\r\u001b[2K     \u001b[90m━━━━━━━━━━━━━━━━━━━━━━━━━━━━━━━━━━━━━━━━\u001b[0m \u001b[32m100.0/100.0 kB\u001b[0m \u001b[31m2.3 MB/s\u001b[0m eta \u001b[36m0:00:00\u001b[0m\n",
            "\u001b[?25hInstalling collected packages: xlwt\n",
            "Successfully installed xlwt-1.3.0\n"
          ]
        }
      ]
    },
    {
      "cell_type": "code",
      "source": [
        "import cv2\n",
        "import numpy as np\n",
        "import os\n",
        "import natsort\n",
        "import xlwt\n",
        "from skimage import exposure"
      ],
      "metadata": {
        "id": "YrRe8KLNcWcz"
      },
      "execution_count": 5,
      "outputs": []
    },
    {
      "cell_type": "code",
      "source": [
        "def RecoverGC(image,gamma):\n",
        "    image = image/255.0\n",
        "    for i in range(3):\n",
        "        image[:, :, i] =  np.power(image[:, :, i] / float(np.max(image[:, :, i])), float(gamma))\n",
        "    image = np.clip(image*255, 0, 255)\n",
        "    image = np.uint8(image)\n",
        "    return image"
      ],
      "metadata": {
        "id": "nlvHPz6mcWgS"
      },
      "execution_count": 8,
      "outputs": []
    },
    {
      "cell_type": "code",
      "source": [
        "#np.seterr(over='ignore')\n",
        "#if __name__ == '__main__':\n",
        "#    pass\n",
        "folder = \"/content/drive/MyDrive/4_1_Reports_IOMP_projects/PROJECT\"\n",
        "path = folder + \"/InputImages\"\n",
        "files = os.listdir(path)\n",
        "files =  natsort.natsorted(files)\n",
        "gamma = input(\"Enter the Gamma Value : \")\n",
        "\n",
        "for i in range(len(files)):\n",
        "    file = files[i]\n",
        "    filepath = path + \"/\" + file\n",
        "    prefix = file.split('.')[0]\n",
        "    if os.path.isfile(filepath):\n",
        "        print('********    file   ********',file)\n",
        "        img = cv2.imread(folder + '/InputImages/' + file)\n",
        "        sceneRadiance = RecoverGC(img,gamma)\n",
        "        #To print the pixel values of the image\n",
        "        #print('sceneRadiance',sceneRadiance)\n",
        "        cv2.imwrite(folder + '/OutputImages/' + prefix + '_GC.jpg', sceneRadiance)"
      ],
      "metadata": {
        "colab": {
          "base_uri": "https://localhost:8080/"
        },
        "id": "oJXkzEbWcWjA",
        "outputId": "3b9f43d8-53e3-4605-b52e-14e500329358"
      },
      "execution_count": 9,
      "outputs": [
        {
          "output_type": "stream",
          "name": "stdout",
          "text": [
            "Enter the Gamma Value : 0.8\n",
            "********    file   ******** 1.jpg\n",
            "********    file   ******** 2.jpg\n",
            "********    file   ******** 3.jpg\n",
            "********    file   ******** 4.jpg\n",
            "********    file   ******** 5.jpg\n",
            "********    file   ******** 6.jpg\n",
            "********    file   ******** 7.jpg\n",
            "********    file   ******** 8.jpg\n",
            "********    file   ******** 9.jpg\n",
            "********    file   ******** 10.jpg\n",
            "********    file   ******** 11.jpg\n",
            "********    file   ******** 12.jpg\n",
            "********    file   ******** 13.jpg\n",
            "********    file   ******** 14.jpg\n",
            "********    file   ******** 15.jpg\n",
            "********    file   ******** 16.jpg\n",
            "********    file   ******** 17.jpg\n",
            "********    file   ******** 18.jpg\n",
            "********    file   ******** 19.jpg\n",
            "********    file   ******** 20.jpg\n",
            "********    file   ******** 21.jpg\n",
            "********    file   ******** 22.jpg\n",
            "********    file   ******** 23.jpg\n",
            "********    file   ******** 24.jpg\n",
            "********    file   ******** 25.jpg\n",
            "********    file   ******** 26.png\n",
            "********    file   ******** 27.jpg\n",
            "********    file   ******** 28.png\n",
            "********    file   ******** 29.jpg\n",
            "********    file   ******** 30.jpg\n",
            "********    file   ******** 31.jpg\n",
            "********    file   ******** 32.jpg\n",
            "********    file   ******** 33.jpg\n",
            "********    file   ******** 34.jpg\n",
            "********    file   ******** 35.png\n",
            "********    file   ******** 36.png\n",
            "********    file   ******** 37.png\n",
            "********    file   ******** 38.jpg\n",
            "********    file   ******** 39.jpg\n",
            "********    file   ******** 40.jpg\n",
            "********    file   ******** 41.png\n",
            "********    file   ******** 42.jpg\n",
            "********    file   ******** 43.jpg\n",
            "********    file   ******** 44.jpg\n",
            "********    file   ******** 45.jpg\n",
            "********    file   ******** 46.jpg\n",
            "********    file   ******** 47.jpg\n",
            "********    file   ******** 48.jpg\n",
            "********    file   ******** 49.jpg\n",
            "********    file   ******** 50.jpg\n",
            "********    file   ******** 51.jpg\n"
          ]
        }
      ]
    },
    {
      "cell_type": "code",
      "source": [],
      "metadata": {
        "id": "QKskFdD0dmQx"
      },
      "execution_count": null,
      "outputs": []
    }
  ]
}